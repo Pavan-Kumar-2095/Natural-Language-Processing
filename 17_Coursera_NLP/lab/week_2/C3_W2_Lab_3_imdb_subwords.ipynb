{
 "cells": [
  {
   "cell_type": "markdown",
   "metadata": {
    "id": "cLKIel77CJPi"
   },
   "source": [
    "# Ungraded Lab: Subword Tokenization with the IMDB Reviews Dataset\n",
    "\n",
    "In this lab, you will look at tokenizing a dataset using subword text encoding. This is an alternative to word-based tokenization which you have been using in the previous labs. You will see how it works and its effect on preparing your data and training your model.\n",
    "\n",
    "Let's begin!\n"
   ]
  },
  {
   "cell_type": "markdown",
   "metadata": {
    "id": "ULU4nGg2F7Bm"
   },
   "source": [
    "## Lab Setup\n",
    "\n",
    "First, you will install some additional packages in Colab and import the ones you will use in the next sections."
   ]
  },
  {
   "cell_type": "code",
   "execution_count": 1,
   "metadata": {
    "id": "KgvM3LABFnLm"
   },
   "outputs": [],
   "source": [
    "import tensorflow as tf\n",
    "import tensorflow_datasets as tfds\n",
    "import matplotlib.pyplot as plt\n",
    "import keras_nlp"
   ]
  },
  {
   "cell_type": "markdown",
   "metadata": {
    "id": "qrzOn9quZ0Sv"
   },
   "source": [
    "## Load the IMDB Reviews dataset\n",
    "\n",
    "As you did in the first ungraded lab, you will load the [IMDB Reviews](https://www.tensorflow.org/datasets/catalog/imdb_reviews) dataset from Tensorflow Datasets."
   ]
  },
  {
   "cell_type": "code",
   "execution_count": 2,
   "metadata": {
    "id": "_IoM4VFxWpMR"
   },
   "outputs": [],
   "source": [
    "# Load the dataset\n",
    "imdb = tfds.load(\"imdb_reviews\", as_supervised=True, data_dir='./data', download=False)"
   ]
  },
  {
   "cell_type": "markdown",
   "metadata": {
    "id": "v3rwL6H3G9Cv"
   },
   "source": [
    "Then, extract the reviews and labels so you can preprocess them."
   ]
  },
  {
   "cell_type": "code",
   "execution_count": 3,
   "metadata": {
    "id": "zAYgHw6TyfpQ"
   },
   "outputs": [],
   "source": [
    "train_reviews = imdb['train'].map(lambda review, label: review)\n",
    "train_labels = imdb['train'].map(lambda review, label: label)\n",
    "\n",
    "test_reviews = imdb['test'].map(lambda review, label: review)\n",
    "test_labels = imdb['test'].map(lambda review, label: label)"
   ]
  },
  {
   "cell_type": "markdown",
   "metadata": {
    "id": "LPJXhkOKIl_f"
   },
   "source": [
    "You can preview a few reviews as a sanity check."
   ]
  },
  {
   "cell_type": "code",
   "execution_count": 4,
   "metadata": {
    "id": "LdUcjsr0ILO4"
   },
   "outputs": [
    {
     "data": {
      "text/plain": [
       "[<tf.Tensor: shape=(), dtype=string, numpy=b\"This was an absolutely terrible movie. Don't be lured in by Christopher Walken or Michael Ironside. Both are great actors, but this must simply be their worst role in history. Even their great acting could not redeem this movie's ridiculous storyline. This movie is an early nineties US propaganda piece. The most pathetic scenes were those when the Columbian rebels were making their cases for revolutions. Maria Conchita Alonso appeared phony, and her pseudo-love affair with Walken was nothing but a pathetic emotional plug in a movie that was devoid of any real meaning. I am disappointed that there are movies like this, ruining actor's like Christopher Walken's good name. I could barely sit through it.\">,\n",
       " <tf.Tensor: shape=(), dtype=string, numpy=b'I have been known to fall asleep during films, but this is usually due to a combination of things including, really tired, being warm and comfortable on the sette and having just eaten a lot. However on this occasion I fell asleep because the film was rubbish. The plot development was constant. Constantly slow and boring. Things seemed to happen, but with no explanation of what was causing them or why. I admit, I may have missed part of the film, but i watched the majority of it and everything just seemed to happen of its own accord without any real concern for anything else. I cant recommend this film at all.'>]"
      ]
     },
     "execution_count": 4,
     "metadata": {},
     "output_type": "execute_result"
    }
   ],
   "source": [
    "# Show two reviews\n",
    "list(train_reviews.take(2))"
   ]
  },
  {
   "cell_type": "markdown",
   "metadata": {
    "id": "YKrbY2fjjFHM"
   },
   "source": [
    "## Subword Tokenization\n",
    "\n",
    "From previous labs, the number of tokens in the sequence is the same as the number of words in the text (i.e. word tokenization). The following cells shows a review of this process."
   ]
  },
  {
   "cell_type": "code",
   "execution_count": 5,
   "metadata": {
    "id": "QduauF7D1n3g"
   },
   "outputs": [],
   "source": [
    "# Parameters for tokenization and padding\n",
    "VOCAB_SIZE = 10000\n",
    "MAX_LENGTH = 120\n",
    "PADDING_TYPE = 'pre'\n",
    "TRUNC_TYPE = 'post'"
   ]
  },
  {
   "cell_type": "code",
   "execution_count": 6,
   "metadata": {
    "id": "-N6Yd_TE3gZ5"
   },
   "outputs": [],
   "source": [
    "# Instantiate the vectorization layer\n",
    "vectorize_layer = tf.keras.layers.TextVectorization(\n",
    "    max_tokens=VOCAB_SIZE\n",
    ")\n",
    "\n",
    "# Generate the vocabulary based only on the training set\n",
    "vectorize_layer.adapt(train_reviews)"
   ]
  },
  {
   "cell_type": "code",
   "execution_count": 7,
   "metadata": {
    "id": "KmuvzVS31OLA"
   },
   "outputs": [],
   "source": [
    "def padding_func(sequences):\n",
    "  '''Generates padded sequences from a tf.data.Dataset'''\n",
    "\n",
    "  # Put all elements in a single ragged batch\n",
    "  sequences = sequences.ragged_batch(batch_size=sequences.cardinality())\n",
    "\n",
    "  # Output a tensor from the single batch\n",
    "  sequences = sequences.get_single_element()\n",
    "\n",
    "  # Pad the sequences\n",
    "  padded_sequences = tf.keras.utils.pad_sequences(sequences.numpy(), \n",
    "                                                  maxlen=MAX_LENGTH, \n",
    "                                                  truncating=TRUNC_TYPE, \n",
    "                                                  padding=PADDING_TYPE\n",
    "                                                 )\n",
    "\n",
    "  # Convert back to a tf.data.Dataset\n",
    "  padded_sequences = tf.data.Dataset.from_tensor_slices(padded_sequences)\n",
    "\n",
    "  return padded_sequences"
   ]
  },
  {
   "cell_type": "code",
   "execution_count": 8,
   "metadata": {
    "id": "aknxBrRY1KTo"
   },
   "outputs": [],
   "source": [
    "# Apply the vectorization layer and padding on the training inputs\n",
    "train_sequences = train_reviews.map(lambda text: vectorize_layer(text)).apply(padding_func)"
   ]
  },
  {
   "cell_type": "markdown",
   "metadata": {
    "id": "nNUlDp76lf94"
   },
   "source": [
    "The cell above uses a `vocab_size` of 10000 but you'll find that it's easy to find OOV tokens when decoding using the lookup dictionary it created. See the result below and notice the `[UNK]` tags:"
   ]
  },
  {
   "cell_type": "code",
   "execution_count": 9,
   "metadata": {
    "id": "YmsECyVr4OPE"
   },
   "outputs": [
    {
     "name": "stdout",
     "output_type": "stream",
     "text": [
      "    this was an absolutely terrible movie dont be [UNK] in by christopher walken or michael [UNK] both are great actors but this must simply be their worst role in history even their great acting could not redeem this movies ridiculous storyline this movie is an early nineties us propaganda piece the most pathetic scenes were those when the [UNK] rebels were making their cases for [UNK] maria [UNK] [UNK] appeared phony and her [UNK] affair with walken was nothing but a pathetic emotional plug in a movie that was devoid of any real meaning i am disappointed that there are movies like this ruining actors like christopher [UNK] good name i could barely sit through it\n"
     ]
    }
   ],
   "source": [
    "# Get the vocabulary\n",
    "imdb_vocab_fullword = vectorize_layer.get_vocabulary()\n",
    "\n",
    "# Get a sample integer sequence\n",
    "sample_sequence = train_sequences.take(1).get_single_element()\n",
    "\n",
    "# Lookup each token in the vocabulary\n",
    "decoded_text = [imdb_vocab_fullword[token] for token in sample_sequence]\n",
    "\n",
    "# Combine the words\n",
    "decoded_text = ' '.join(decoded_text)\n",
    "\n",
    "# Print the output\n",
    "print(decoded_text)"
   ]
  },
  {
   "cell_type": "markdown",
   "metadata": {
    "id": "O0HQqkBmpujb"
   },
   "source": [
    "For binary classifiers, this might not have a big impact but you may have other applications that will benefit from avoiding OOV tokens when training the model (e.g. text generation). If you want the tokenizer above to not have OOVs, then you might have to increase the vocabulary size to more than 88k. Right now, it's only at 10k. This can slow down training and bloat the model size. The encoder also won't be robust when used on other datasets which may contain new words, thus resulting in OOVs again."
   ]
  },
  {
   "cell_type": "markdown",
   "metadata": {
    "id": "McxNKhHIsNvl"
   },
   "source": [
    "*Subword text encoding* gets around this problem by using parts of the word to compose whole words. This makes it more flexible when it encounters uncommon words. You can use the [KerasNLP](https://keras.io/api/keras_nlp/) API to do just that."
   ]
  },
  {
   "cell_type": "markdown",
   "metadata": {
    "id": "gwByl7OCNGl3"
   },
   "source": [
    "First, you will compute the subword vocabulary using the [compute_word_piece_vocabulary()](https://keras.io/api/keras_nlp/tokenizers/compute_word_piece_vocabulary/#compute_word_piece_vocabulary-function) function. You will tell it to:\n",
    "* learn from the `train_reviews`\n",
    "* set a max vocabulary size of 8k\n",
    "* reserve special tokens similar to the full word vocabulary\n",
    "* save the output to a file in the current directory\n",
    "\n",
    "***Note: This will take around 5 minutes to run. If you want to save some time, you can skip it and download the subword vocabulary in the next cell.***"
   ]
  },
  {
   "cell_type": "code",
   "execution_count": 10,
   "metadata": {
    "id": "h-tvKmx2Lqxj"
   },
   "outputs": [],
   "source": [
    "# Compute the subword vocabulary and save to a file\n",
    "keras_nlp.tokenizers.compute_word_piece_vocabulary(\n",
    "    train_reviews,\n",
    "    vocabulary_size=8000,\n",
    "    reserved_tokens=[\"[PAD]\", \"[UNK]\"],\n",
    "    vocabulary_output_file='imdb_vocab_subwords.txt'\n",
    ")"
   ]
  },
  {
   "cell_type": "markdown",
   "metadata": {
    "id": "3aS030JMRyt6"
   },
   "source": [
    "Next, you will initialize a [WordPieceTokenizer](https://keras.io/api/keras_nlp/tokenizers/word_piece_tokenizer/#wordpiecetokenizer-class) using the vocabulary. This will behave similar to the `TextVectorization` layer you've been using so far, but it is able to generate subword sequences."
   ]
  },
  {
   "cell_type": "code",
   "execution_count": 11,
   "metadata": {
    "id": "hwJHhfTLXhsx"
   },
   "outputs": [],
   "source": [
    "# Uncomment this line if you skipped the cell above and want to use a pre-saved vocabulary\n",
    "# !wget -nc https://storage.googleapis.com/tensorflow-1-public/course3/imdb_vocab_subwords.txt"
   ]
  },
  {
   "cell_type": "code",
   "execution_count": 12,
   "metadata": {
    "id": "yd-WGsVOLvch"
   },
   "outputs": [],
   "source": [
    "# Initialize the subword tokenizer\n",
    "subword_tokenizer = keras_nlp.tokenizers.WordPieceTokenizer(\n",
    "    vocabulary='./imdb_vocab_subwords.txt'\n",
    ")"
   ]
  },
  {
   "cell_type": "markdown",
   "metadata": {
    "id": "yMNCxZ9xSgEy"
   },
   "source": [
    "See the vocabulary below. You'll notice that many of them are just parts of words, sometimes just single characters. Some also have a `##` which indicates that it is a suffix (i.e. something that is connected to a previous token). You'll see how this behaves later with an example."
   ]
  },
  {
   "cell_type": "code",
   "execution_count": 13,
   "metadata": {
    "id": "SqyMSZbnwFBo"
   },
   "outputs": [
    {
     "data": {
      "text/plain": [
       "['[PAD]',\n",
       " '[UNK]',\n",
       " '!',\n",
       " '\"',\n",
       " '#',\n",
       " '$',\n",
       " '%',\n",
       " '&',\n",
       " \"'\",\n",
       " '(',\n",
       " ')',\n",
       " '*',\n",
       " '+',\n",
       " ',',\n",
       " '-',\n",
       " '.',\n",
       " '/',\n",
       " '0',\n",
       " '1',\n",
       " '2',\n",
       " '3',\n",
       " '4',\n",
       " '5',\n",
       " '6',\n",
       " '7',\n",
       " '8',\n",
       " '9',\n",
       " ':',\n",
       " ';',\n",
       " '<',\n",
       " '=',\n",
       " '>',\n",
       " '?',\n",
       " '@',\n",
       " 'A',\n",
       " 'B',\n",
       " 'C',\n",
       " 'D',\n",
       " 'E',\n",
       " 'F',\n",
       " 'G',\n",
       " 'H',\n",
       " 'I',\n",
       " 'J',\n",
       " 'K',\n",
       " 'L',\n",
       " 'M',\n",
       " 'N',\n",
       " 'O',\n",
       " 'P',\n",
       " 'Q',\n",
       " 'R',\n",
       " 'S',\n",
       " 'T',\n",
       " 'U',\n",
       " 'V',\n",
       " 'W',\n",
       " 'X',\n",
       " 'Y',\n",
       " 'Z',\n",
       " '[',\n",
       " '\\\\',\n",
       " ']',\n",
       " '^',\n",
       " '_',\n",
       " '`',\n",
       " 'a',\n",
       " 'b',\n",
       " 'c',\n",
       " 'd',\n",
       " 'e',\n",
       " 'f',\n",
       " 'g',\n",
       " 'h',\n",
       " 'i',\n",
       " 'j',\n",
       " 'k',\n",
       " 'l',\n",
       " 'm',\n",
       " 'n',\n",
       " 'o',\n",
       " 'p',\n",
       " 'q',\n",
       " 'r',\n",
       " 's',\n",
       " 't',\n",
       " 'u',\n",
       " 'v',\n",
       " 'w',\n",
       " 'x',\n",
       " 'y',\n",
       " 'z',\n",
       " '{',\n",
       " '|',\n",
       " '}',\n",
       " '~',\n",
       " '',\n",
       " '¡',\n",
       " '¢',\n",
       " '£',\n",
       " '¤',\n",
       " '¦',\n",
       " '§',\n",
       " '¨',\n",
       " '«',\n",
       " '®',\n",
       " '°',\n",
       " '³',\n",
       " '´',\n",
       " '·',\n",
       " 'º',\n",
       " '»',\n",
       " '½',\n",
       " '¾',\n",
       " '¿',\n",
       " 'À',\n",
       " 'Á',\n",
       " 'Ã',\n",
       " 'Ä',\n",
       " 'Å',\n",
       " 'È',\n",
       " 'É',\n",
       " 'Ê',\n",
       " 'Õ',\n",
       " 'Ø',\n",
       " 'Ü',\n",
       " 'ß',\n",
       " 'à',\n",
       " 'á',\n",
       " 'â',\n",
       " 'ã',\n",
       " 'ä',\n",
       " 'å',\n",
       " 'æ',\n",
       " 'ç',\n",
       " 'è',\n",
       " 'é',\n",
       " 'ê',\n",
       " 'ë',\n",
       " 'ì',\n",
       " 'í',\n",
       " 'î',\n",
       " 'ï',\n",
       " 'ð',\n",
       " 'ñ',\n",
       " 'ò',\n",
       " 'ó',\n",
       " 'ô',\n",
       " 'ö',\n",
       " 'ø',\n",
       " 'ù',\n",
       " 'ú',\n",
       " 'û',\n",
       " 'ü',\n",
       " 'ý',\n",
       " 'ō',\n",
       " '–',\n",
       " '‘',\n",
       " '’',\n",
       " '“',\n",
       " '”',\n",
       " '…',\n",
       " '₤',\n",
       " '\\uf0b7',\n",
       " 'the',\n",
       " 'and',\n",
       " 'of',\n",
       " 'to',\n",
       " 'is',\n",
       " 'br',\n",
       " 'in',\n",
       " 'it',\n",
       " 'that',\n",
       " 'this',\n",
       " '##s',\n",
       " 'was',\n",
       " 'The',\n",
       " 'as',\n",
       " 'movie',\n",
       " 'with',\n",
       " 'for',\n",
       " 'film',\n",
       " 'but',\n",
       " 'on',\n",
       " 'you',\n",
       " 'are',\n",
       " 'not',\n",
       " 'his',\n",
       " 'have',\n",
       " 'be',\n",
       " 'he',\n",
       " 'one',\n",
       " 'by',\n",
       " 'at',\n",
       " 'all',\n",
       " 'an',\n",
       " 'who',\n",
       " 'they',\n",
       " 'from',\n",
       " 'like',\n",
       " 'It',\n",
       " 'so',\n",
       " 'her',\n",
       " 'or',\n",
       " '##ing',\n",
       " 'about',\n",
       " 'out',\n",
       " 'has',\n",
       " 'just',\n",
       " 'This',\n",
       " 'good',\n",
       " 'some',\n",
       " '##ed',\n",
       " 'can',\n",
       " 'more',\n",
       " 'very',\n",
       " 'up',\n",
       " '##ly',\n",
       " 'what',\n",
       " 'there',\n",
       " 'time',\n",
       " 'would',\n",
       " 'which',\n",
       " 'when',\n",
       " 'story',\n",
       " 'she',\n",
       " 'if',\n",
       " 'only',\n",
       " 'really',\n",
       " 'had',\n",
       " 'see',\n",
       " 'their',\n",
       " 'even',\n",
       " 'no',\n",
       " 'were',\n",
       " 'me',\n",
       " 'my',\n",
       " '##d',\n",
       " '##y',\n",
       " 'than',\n",
       " 'much',\n",
       " 'been',\n",
       " 'well',\n",
       " 'get',\n",
       " 'into',\n",
       " '##er',\n",
       " 'bad',\n",
       " 'him',\n",
       " 'people',\n",
       " 'other',\n",
       " 'will',\n",
       " 'we',\n",
       " 'because',\n",
       " '##e',\n",
       " 'do',\n",
       " 'great',\n",
       " 'made',\n",
       " 'first',\n",
       " 'most',\n",
       " 'them',\n",
       " 'make',\n",
       " 'way',\n",
       " 'also',\n",
       " 'could',\n",
       " 'how',\n",
       " 'too',\n",
       " 'movies',\n",
       " 'its',\n",
       " 'don',\n",
       " 'any',\n",
       " 'But',\n",
       " 'think',\n",
       " 'characters',\n",
       " 'character',\n",
       " 'And',\n",
       " 'films',\n",
       " 'then',\n",
       " 'seen',\n",
       " 'watch',\n",
       " 'plot',\n",
       " 'two',\n",
       " 'being',\n",
       " 'acting',\n",
       " 'life',\n",
       " 'many',\n",
       " 'There',\n",
       " 'never',\n",
       " 'over',\n",
       " 'know',\n",
       " 'after',\n",
       " 'little',\n",
       " '##t',\n",
       " 'show',\n",
       " 'off',\n",
       " 'In',\n",
       " 'did',\n",
       " 'where',\n",
       " '##a',\n",
       " 'love',\n",
       " 'best',\n",
       " 'ever',\n",
       " 'does',\n",
       " 'better',\n",
       " '##o',\n",
       " 'end',\n",
       " 'your',\n",
       " '##r',\n",
       " 'If',\n",
       " 'He',\n",
       " 'say',\n",
       " 'scene',\n",
       " '##n',\n",
       " 'scenes',\n",
       " 've',\n",
       " 'still',\n",
       " 'here',\n",
       " 'such',\n",
       " 'should',\n",
       " 'man',\n",
       " 'something',\n",
       " 'through',\n",
       " 'go',\n",
       " 'back',\n",
       " 'these',\n",
       " 'real',\n",
       " 'doesn',\n",
       " 're',\n",
       " 'thing',\n",
       " 'actors',\n",
       " 'years',\n",
       " 'those',\n",
       " 'watching',\n",
       " '10',\n",
       " 'work',\n",
       " 'old',\n",
       " 'didn',\n",
       " '##es',\n",
       " 'funny',\n",
       " 'makes',\n",
       " 'find',\n",
       " 'though',\n",
       " 'going',\n",
       " 'actually',\n",
       " 'few',\n",
       " 'before',\n",
       " 'same',\n",
       " 'why',\n",
       " 'look',\n",
       " 'lot',\n",
       " 'while',\n",
       " 'director',\n",
       " 'part',\n",
       " 'cast',\n",
       " 'nothing',\n",
       " 'again',\n",
       " 'another',\n",
       " '##al',\n",
       " '##i',\n",
       " 'want',\n",
       " 'quite',\n",
       " 'down',\n",
       " 'around',\n",
       " 'seems',\n",
       " '##on',\n",
       " 'pretty',\n",
       " 'fact',\n",
       " 'got',\n",
       " 'things',\n",
       " 'every',\n",
       " '##l',\n",
       " 'enough',\n",
       " 'thought',\n",
       " 'between',\n",
       " 'As',\n",
       " 'own',\n",
       " 'now',\n",
       " 'original',\n",
       " 'take',\n",
       " 'What',\n",
       " 'world',\n",
       " 'series',\n",
       " 'You',\n",
       " 'horror',\n",
       " 'long',\n",
       " 'young',\n",
       " 'action',\n",
       " 'us',\n",
       " 'They',\n",
       " 'give',\n",
       " 'gets',\n",
       " 'role',\n",
       " 'right',\n",
       " 'must',\n",
       " 'always',\n",
       " 'may',\n",
       " 'times',\n",
       " 'isn',\n",
       " 'least',\n",
       " 'comedy',\n",
       " 'point',\n",
       " 'interesting',\n",
       " 'done',\n",
       " 'saw',\n",
       " 'new',\n",
       " 'whole',\n",
       " 'family',\n",
       " 'bit',\n",
       " 'both',\n",
       " 'without',\n",
       " 'script',\n",
       " 'almost',\n",
       " 'come',\n",
       " 'big',\n",
       " 'minutes',\n",
       " 'feel',\n",
       " 'making',\n",
       " 'performance',\n",
       " 'might',\n",
       " 'far',\n",
       " 'll',\n",
       " 'music',\n",
       " 'anything',\n",
       " 'guy',\n",
       " '##man',\n",
       " 'She',\n",
       " 'kind',\n",
       " 'TV',\n",
       " 'am',\n",
       " 'That',\n",
       " 'probably',\n",
       " 'away',\n",
       " '##h',\n",
       " 'So',\n",
       " 'last',\n",
       " 'woman',\n",
       " 'fun',\n",
       " 'girl',\n",
       " 'rather',\n",
       " 'since',\n",
       " 'found',\n",
       " 'played',\n",
       " 'hard',\n",
       " 'worst',\n",
       " '##an',\n",
       " '##ers',\n",
       " '##ness',\n",
       " 'course',\n",
       " 'screen',\n",
       " '##ic',\n",
       " 'comes',\n",
       " 'When',\n",
       " 'trying',\n",
       " 'believe',\n",
       " 'goes',\n",
       " 'looking',\n",
       " 'each',\n",
       " 'day',\n",
       " 'looks',\n",
       " 'anyone',\n",
       " 'different',\n",
       " 'place',\n",
       " 'set',\n",
       " 'yet',\n",
       " 'especially',\n",
       " 'book',\n",
       " 'ending',\n",
       " 'put',\n",
       " 'DVD',\n",
       " 'reason',\n",
       " 'our',\n",
       " 'money',\n",
       " 'actor',\n",
       " 'wasn',\n",
       " 'shows',\n",
       " 'One',\n",
       " 'sense',\n",
       " 'sure',\n",
       " 'year',\n",
       " '##m',\n",
       " 'job',\n",
       " '##in',\n",
       " '##ie',\n",
       " 'main',\n",
       " 'watched',\n",
       " 'plays',\n",
       " 'having',\n",
       " 'American',\n",
       " 'audience',\n",
       " 'together',\n",
       " 'takes',\n",
       " 'John',\n",
       " 'said',\n",
       " 'effects',\n",
       " 'play',\n",
       " 'seem',\n",
       " 'worth',\n",
       " 'himself',\n",
       " 'someone',\n",
       " 'true',\n",
       " 'version',\n",
       " '##le',\n",
       " '##able',\n",
       " 'wife',\n",
       " 'My',\n",
       " 'beautiful',\n",
       " 'We',\n",
       " 'For',\n",
       " 'three',\n",
       " 'All',\n",
       " 'left',\n",
       " '##k',\n",
       " 'idea',\n",
       " 'half',\n",
       " 'Not',\n",
       " 'special',\n",
       " 'father',\n",
       " 'seeing',\n",
       " '##ity',\n",
       " 'else',\n",
       " 'shot',\n",
       " 'However',\n",
       " 'later',\n",
       " 'everything',\n",
       " 'less',\n",
       " '##less',\n",
       " 'excellent',\n",
       " 'during',\n",
       " 'mind',\n",
       " 'once',\n",
       " 'everyone',\n",
       " 'nice',\n",
       " '##ion',\n",
       " 'fan',\n",
       " 'high',\n",
       " 'read',\n",
       " 'simply',\n",
       " 'help',\n",
       " 'Hollywood',\n",
       " 'used',\n",
       " 'completely',\n",
       " '##ry',\n",
       " '##ation',\n",
       " '##ting',\n",
       " '##or',\n",
       " 'budget',\n",
       " '##ia',\n",
       " 'short',\n",
       " 'performances',\n",
       " 'let',\n",
       " '##S',\n",
       " '##en',\n",
       " 'either',\n",
       " 'need',\n",
       " 'rest',\n",
       " 'use',\n",
       " 'poor',\n",
       " 'second',\n",
       " 'line',\n",
       " 'low',\n",
       " 'try',\n",
       " 'classic',\n",
       " 'camera',\n",
       " '##ive',\n",
       " 'given',\n",
       " 'kids',\n",
       " 'top',\n",
       " 'production',\n",
       " 'boring',\n",
       " 'home',\n",
       " 'wrong',\n",
       " 'enjoy',\n",
       " 'women',\n",
       " '##ies',\n",
       " 'until',\n",
       " '##ment',\n",
       " 'friends',\n",
       " 'start',\n",
       " '##ling',\n",
       " 'tell',\n",
       " '##ful',\n",
       " 'couple',\n",
       " '##us',\n",
       " 'mean',\n",
       " 'won',\n",
       " 'recommend',\n",
       " 'truly',\n",
       " 'moments',\n",
       " 'men',\n",
       " 'house',\n",
       " 'No',\n",
       " 'instead',\n",
       " 'came',\n",
       " 'understand',\n",
       " 'night',\n",
       " 'death',\n",
       " 'awful',\n",
       " 'stupid',\n",
       " 'Even',\n",
       " 'along',\n",
       " '##u',\n",
       " '##te',\n",
       " 'video',\n",
       " 'episode',\n",
       " 'stars',\n",
       " 'sex',\n",
       " 'playing',\n",
       " 'small',\n",
       " 'At',\n",
       " 'getting',\n",
       " 'doing',\n",
       " 'full',\n",
       " 'person',\n",
       " 'remember',\n",
       " 'style',\n",
       " 'gives',\n",
       " 'After',\n",
       " 'To',\n",
       " 'itself',\n",
       " 'although',\n",
       " 'Well',\n",
       " 'wonderful',\n",
       " 'however',\n",
       " 'often',\n",
       " 'face',\n",
       " 'become',\n",
       " 'next',\n",
       " 'lines',\n",
       " 'name',\n",
       " 'keep',\n",
       " 'written',\n",
       " 'terrible',\n",
       " 'school',\n",
       " 'others',\n",
       " 'black',\n",
       " '##re',\n",
       " 'dialogue',\n",
       " 'felt',\n",
       " 'piece',\n",
       " 'early',\n",
       " 'maybe',\n",
       " 'perfect',\n",
       " 'human',\n",
       " 'liked',\n",
       " 'supposed',\n",
       " '##g',\n",
       " '##ar',\n",
       " '##th',\n",
       " 'star',\n",
       " 'head',\n",
       " '##rs',\n",
       " 'THE',\n",
       " 'couldn',\n",
       " 'case',\n",
       " 'entire',\n",
       " 'went',\n",
       " 'against',\n",
       " 'sort',\n",
       " 'children',\n",
       " 'entertaining',\n",
       " 'waste',\n",
       " '##ge',\n",
       " 'His',\n",
       " 'live',\n",
       " 'Mr',\n",
       " 'title',\n",
       " 'While',\n",
       " 'problem',\n",
       " '##ine',\n",
       " 'called',\n",
       " '##est',\n",
       " 'war',\n",
       " 'Then',\n",
       " 'worse',\n",
       " '##nt',\n",
       " 'absolutely',\n",
       " 'definitely',\n",
       " 'friend',\n",
       " 'mother',\n",
       " '##ted',\n",
       " 'beginning',\n",
       " 'Don',\n",
       " 'becomes',\n",
       " 'Also',\n",
       " 'drama',\n",
       " '##ate',\n",
       " 'boy',\n",
       " 'picture',\n",
       " 'already',\n",
       " 'cinema',\n",
       " 'seemed',\n",
       " 'certainly',\n",
       " 'laugh',\n",
       " 'lives',\n",
       " 'example',\n",
       " '##E',\n",
       " 'fans',\n",
       " '##ist',\n",
       " '##z',\n",
       " 'care',\n",
       " 'wanted',\n",
       " 'Michael',\n",
       " 'loved',\n",
       " 'several',\n",
       " 'based',\n",
       " 'turn',\n",
       " 'dead',\n",
       " '##ce',\n",
       " 'direction',\n",
       " 'lost',\n",
       " 'hope',\n",
       " '##ally',\n",
       " 'Of',\n",
       " 'humor',\n",
       " 'under',\n",
       " 'fine',\n",
       " 'lead',\n",
       " 'Why',\n",
       " 'quality',\n",
       " 'son',\n",
       " 'wants',\n",
       " '##et',\n",
       " 'writing',\n",
       " 'works',\n",
       " 'tries',\n",
       " '##ty',\n",
       " '##p',\n",
       " 'Some',\n",
       " 'guess',\n",
       " 'past',\n",
       " 'able',\n",
       " 'guys',\n",
       " 'viewer',\n",
       " 'How',\n",
       " 'killer',\n",
       " 'totally',\n",
       " '##tion',\n",
       " 'Now',\n",
       " '##st',\n",
       " 'flick',\n",
       " 'genre',\n",
       " 'history',\n",
       " 'throughout',\n",
       " 'sound',\n",
       " 'enjoyed',\n",
       " 'heart',\n",
       " 'amazing',\n",
       " 'New',\n",
       " 'turns',\n",
       " '##el',\n",
       " 'side',\n",
       " 'finally',\n",
       " 'evil',\n",
       " 'hand',\n",
       " 'close',\n",
       " 'starts',\n",
       " 'gave',\n",
       " 'behind',\n",
       " 'etc',\n",
       " '##ian',\n",
       " 'town',\n",
       " 'child',\n",
       " 'favorite',\n",
       " '##ism',\n",
       " 'game',\n",
       " 'car',\n",
       " 'themselves',\n",
       " 'act',\n",
       " 'today',\n",
       " '##ch',\n",
       " 'final',\n",
       " 'art',\n",
       " 'parts',\n",
       " 'late',\n",
       " 'self',\n",
       " 'days',\n",
       " 'expect',\n",
       " 'perhaps',\n",
       " 'white',\n",
       " '##it',\n",
       " 'actress',\n",
       " 'thinking',\n",
       " '##ous',\n",
       " 'With',\n",
       " 'stuff',\n",
       " 'hour',\n",
       " 'stories',\n",
       " '##ish',\n",
       " 'feeling',\n",
       " 'decent',\n",
       " 'myself',\n",
       " 'voice',\n",
       " '##ble',\n",
       " 'Just',\n",
       " 'directed',\n",
       " '##nce',\n",
       " '##ant',\n",
       " 'girls',\n",
       " 'brilliant',\n",
       " 'daughter',\n",
       " 'roles',\n",
       " 'type',\n",
       " 'horrible',\n",
       " '##ra',\n",
       " 'matter',\n",
       " 'run',\n",
       " 'says',\n",
       " 'heard',\n",
       " 'slow',\n",
       " 'moment',\n",
       " 'killed',\n",
       " 'took',\n",
       " 'eyes',\n",
       " 'kid',\n",
       " 'fight',\n",
       " 'cannot',\n",
       " 'dark',\n",
       " 'involved',\n",
       " 'happens',\n",
       " 'kill',\n",
       " 'known',\n",
       " '##ping',\n",
       " '##um',\n",
       " 'writer',\n",
       " 'hit',\n",
       " 'obvious',\n",
       " '##ne',\n",
       " 'James',\n",
       " 'experience',\n",
       " 'violence',\n",
       " 'soon',\n",
       " 'happened',\n",
       " 'attempt',\n",
       " '##se',\n",
       " 'told',\n",
       " 'lack',\n",
       " 'including',\n",
       " 'happen',\n",
       " 'particularly',\n",
       " 'interest',\n",
       " 'ago',\n",
       " 'extremely',\n",
       " 'On',\n",
       " 'leave',\n",
       " 'strong',\n",
       " 'group',\n",
       " '##x',\n",
       " 'chance',\n",
       " 'David',\n",
       " 'stop',\n",
       " 'husband',\n",
       " 'wouldn',\n",
       " 'complete',\n",
       " 'sometimes',\n",
       " 'coming',\n",
       " 'except',\n",
       " 'brother',\n",
       " '##id',\n",
       " 'looked',\n",
       " 'career',\n",
       " 'obviously',\n",
       " 'crap',\n",
       " '##age',\n",
       " 'score',\n",
       " 'shown',\n",
       " 'highly',\n",
       " 'wonder',\n",
       " 'age',\n",
       " 'whose',\n",
       " 'hero',\n",
       " 'Although',\n",
       " 'annoying',\n",
       " '##ey',\n",
       " 'number',\n",
       " '##ck',\n",
       " 'serious',\n",
       " 'Oh',\n",
       " 'alone',\n",
       " 'taken',\n",
       " 'English',\n",
       " 'musical',\n",
       " 'relationship',\n",
       " '##ated',\n",
       " '##f',\n",
       " 'jokes',\n",
       " 'hours',\n",
       " 'yourself',\n",
       " 'First',\n",
       " 'simple',\n",
       " 'started',\n",
       " 'exactly',\n",
       " 'released',\n",
       " 'somewhat',\n",
       " 'ends',\n",
       " 'novel',\n",
       " 'level',\n",
       " 'opinion',\n",
       " 'change',\n",
       " 'possible',\n",
       " '##ton',\n",
       " '##ts',\n",
       " 'sad',\n",
       " '##led',\n",
       " 'opening',\n",
       " 'Robert',\n",
       " 'reality',\n",
       " 'finds',\n",
       " 'gore',\n",
       " '##il',\n",
       " 'ridiculous',\n",
       " 'across',\n",
       " 'shots',\n",
       " 'usual',\n",
       " 'cinematography',\n",
       " 'ones',\n",
       " 'Man',\n",
       " 'murder',\n",
       " 'hilarious',\n",
       " 'light',\n",
       " 'cut',\n",
       " 'view',\n",
       " 'song',\n",
       " 'talking',\n",
       " 'documentary',\n",
       " 'female',\n",
       " '##at',\n",
       " '##ent',\n",
       " 'despite',\n",
       " 'body',\n",
       " 'episodes',\n",
       " 'saying',\n",
       " '##ure',\n",
       " 'talent',\n",
       " 'turned',\n",
       " 'running',\n",
       " 'living',\n",
       " 'save',\n",
       " 'important',\n",
       " 'police',\n",
       " 'disappointed',\n",
       " 'single',\n",
       " 'taking',\n",
       " 'events',\n",
       " 'OK',\n",
       " 'cool',\n",
       " 'attention',\n",
       " 'word',\n",
       " 'huge',\n",
       " 'wish',\n",
       " 'British',\n",
       " 'middle',\n",
       " 'Paul',\n",
       " 'modern',\n",
       " 'usually',\n",
       " 'order',\n",
       " 'songs',\n",
       " 'blood',\n",
       " 'knew',\n",
       " 'mostly',\n",
       " 'scary',\n",
       " 'non',\n",
       " 'tells',\n",
       " 'Jack',\n",
       " 'happy',\n",
       " 'thriller',\n",
       " 'problems',\n",
       " 'comic',\n",
       " 'room',\n",
       " 'sequence',\n",
       " 'knows',\n",
       " 'local',\n",
       " 'call',\n",
       " 'aren',\n",
       " 'due',\n",
       " 'silly',\n",
       " 'future',\n",
       " 'cheap',\n",
       " 'television',\n",
       " 'country',\n",
       " 'easily',\n",
       " 'George',\n",
       " 'class',\n",
       " '##Y',\n",
       " '##ve',\n",
       " 'sets',\n",
       " 'bring',\n",
       " 'words',\n",
       " 'Richard',\n",
       " 'supporting',\n",
       " 'strange',\n",
       " '##ible',\n",
       " 'Oscar',\n",
       " 'appears',\n",
       " 'major',\n",
       " 'similar',\n",
       " '##am',\n",
       " '##D',\n",
       " '##T',\n",
       " 'predictable',\n",
       " 'romantic',\n",
       " 'clearly',\n",
       " ...]"
      ]
     },
     "execution_count": 13,
     "metadata": {},
     "output_type": "execute_result"
    }
   ],
   "source": [
    "# Print the subwords\n",
    "subword_tokenizer.get_vocabulary()"
   ]
  },
  {
   "cell_type": "markdown",
   "metadata": {
    "id": "kaRA9LBUwfHM"
   },
   "source": [
    "If you use it on the previous plain text sentence, you'll see that it won't have any OOVs even if it has a smaller vocab size (only around 8k compared to 10k above):"
   ]
  },
  {
   "cell_type": "code",
   "execution_count": 14,
   "metadata": {
    "id": "B8HSViuDGNco"
   },
   "outputs": [
    {
     "data": {
      "text/plain": [
       "7635"
      ]
     },
     "execution_count": 14,
     "metadata": {},
     "output_type": "execute_result"
    }
   ],
   "source": [
    "# Show the size of the subword vocabulary\n",
    "subword_tokenizer.vocabulary_size()"
   ]
  },
  {
   "cell_type": "code",
   "execution_count": 15,
   "metadata": {
    "id": "tn_eLaS5mR7H"
   },
   "outputs": [
    {
     "name": "stdout",
     "output_type": "stream",
     "text": [
      "Tokenized string is [ 209  175  195  674  630  178   15  680    8   85  189   77 2000  170\n",
      "  192 1766 4426  203  700   42 1864 2116   15 1961  185  255  328   13\n",
      "  182  173  392  535  189  231  442  390  170  740   15  597  231  255\n",
      "  282  263  186 1680 6036  173  178    8   84  908 1045   15  209  178\n",
      "  168  195  638 4963 1657 1422 3263  637   15  176  258 1648  312  234\n",
      "  330  223  164   36 1532 5576  758  326 4207  174  234  415  231 3925\n",
      "  180 4554  174   15 3651   36  363 6855 1985 2230 1828  303 1931 7070\n",
      "   13  165  202 5417   14  298 2118  179 4426  175  353  182   66 1648\n",
      " 1210   81 7017  170   66  178  172  175 5789  166  269  324 1606   15\n",
      "   42  427  938  172  219  185  266  199  173   13 3231  204  471    8\n",
      "   84  199 1766 4426    8   84  210  627   15   42  263 1575 1169  320\n",
      "  171   15]\n",
      "The original string: b\"This was an absolutely terrible movie . Don ' t be lured in by Christopher Walken or Michael Ironside . Both are great actors , but this must simply be their worst role in history . Even their great acting could not redeem this movie ' s ridiculous storyline . This movie is an early nineties US propaganda piece . The most pathetic scenes were those when the Columbian rebels were making their cases for revolutions . Maria Conchita Alonso appeared phony , and her pseudo - love affair with Walken was nothing but a pathetic emotional plug in a movie that was devoid of any real meaning . I am disappointed that there are movies like this , ruining actor ' s like Christopher Walken ' s good name . I could barely sit through it .\"\n"
     ]
    }
   ],
   "source": [
    "# Get a sample review\n",
    "sample_review = train_reviews.take(1).get_single_element()\n",
    "\n",
    "# Encode the first plaintext sentence using the subword text encoder\n",
    "tokenized_string = subword_tokenizer.tokenize(sample_review)\n",
    "print ('Tokenized string is {}'.format(tokenized_string))\n",
    "\n",
    "# Decode the sequence\n",
    "original_string = subword_tokenizer.detokenize(tokenized_string)\n",
    "\n",
    "# Print the result\n",
    "print('The original string: {}'.format(original_string))"
   ]
  },
  {
   "cell_type": "markdown",
   "metadata": {
    "id": "iL9O3hEqw4Bl"
   },
   "source": [
    "Subword encoding can even perform well on words that are not commonly found in movie reviews. First, see the result when using the full-word tokenizer. As expected, it will show many unknown words."
   ]
  },
  {
   "cell_type": "code",
   "execution_count": 16,
   "metadata": {
    "id": "MHRj1J0j8ApE"
   },
   "outputs": [
    {
     "name": "stdout",
     "output_type": "stream",
     "text": [
      "Tokenized string is [ 1 36  1  6  1]\n",
      "The original string: [UNK] from [UNK] to [UNK]\n"
     ]
    }
   ],
   "source": [
    "# Define sample sentence\n",
    "sample_string = 'TensorFlow, from basics to mastery'\n",
    "\n",
    "# Encode using the plain text tokenizer\n",
    "tokenized_string = vectorize_layer(sample_string)\n",
    "print ('Tokenized string is {}'.format(tokenized_string))\n",
    "\n",
    "# Decode and print the result\n",
    "decoded_text = [imdb_vocab_fullword[token] for token in tokenized_string]\n",
    "original_string = ' '.join(decoded_text)\n",
    "print ('The original string: {}'.format(original_string))"
   ]
  },
  {
   "cell_type": "markdown",
   "metadata": {
    "id": "ZhQ-4O-uxdbJ"
   },
   "source": [
    "Then compare to the subword tokenizer:"
   ]
  },
  {
   "cell_type": "code",
   "execution_count": 17,
   "metadata": {
    "id": "fPl2BXhYEHRP"
   },
   "outputs": [
    {
     "name": "stdout",
     "output_type": "stream",
     "text": [
      "Tokenized string is [  53 2235  543 1827 3024   13  198 1659  174  167 2220  238]\n",
      "The original string: TensorFlow , from basics to mastery\n"
     ]
    }
   ],
   "source": [
    "# Encode using the subword text encoder\n",
    "tokenized_string = subword_tokenizer.tokenize(sample_string)\n",
    "print('Tokenized string is {}'.format(tokenized_string))\n",
    "\n",
    "# Decode and print the results\n",
    "original_string = subword_tokenizer.detokenize(tokenized_string).numpy().decode(\"utf-8\")\n",
    "print('The original string: {}'.format(original_string))\n"
   ]
  },
  {
   "cell_type": "markdown",
   "metadata": {
    "id": "89sbfXjz0MSW"
   },
   "source": [
    "As you may notice, the sentence is correctly decoded. The downside is the token sequence is much longer. Instead of only 5 when using the full-word tokenizer, you ended up with 12 tokens instead. The mapping for this sentence is shown below:"
   ]
  },
  {
   "cell_type": "code",
   "execution_count": 18,
   "metadata": {
    "id": "_3t7vvNLEZml"
   },
   "outputs": [
    {
     "name": "stdout",
     "output_type": "stream",
     "text": [
      "53 ----> T\n",
      "2235 ----> ##ens\n",
      "543 ----> ##or\n",
      "1827 ----> ##F\n",
      "3024 ----> ##low\n",
      "13 ----> ,\n",
      "198 ----> from\n",
      "1659 ----> basic\n",
      "174 ----> ##s\n",
      "167 ----> to\n",
      "2220 ----> master\n",
      "238 ----> ##y\n"
     ]
    }
   ],
   "source": [
    "# Show token to subword mapping:\n",
    "for ts in tokenized_string:\n",
    "  print ('{} ----> {}'.format(ts, subword_tokenizer.detokenize([ts]).numpy().decode(\"utf-8\")))"
   ]
  },
  {
   "cell_type": "markdown",
   "metadata": {
    "id": "aZ22ugch1TFy"
   },
   "source": [
    "## Training the model\n",
    "\n",
    "You will now train your model using the subword-tokenized dataset using the same process as before."
   ]
  },
  {
   "cell_type": "code",
   "execution_count": 19,
   "metadata": {
    "id": "LVSTLBe_SOUr"
   },
   "outputs": [],
   "source": [
    "SHUFFLE_BUFFER_SIZE = 10000\n",
    "PREFETCH_BUFFER_SIZE = tf.data.AUTOTUNE\n",
    "BATCH_SIZE = 32\n",
    "\n",
    "# Generate integer sequences using the subword tokenizer\n",
    "train_sequences_subword = train_reviews.map(lambda review: subword_tokenizer.tokenize(review)).apply(padding_func)\n",
    "test_sequences_subword = test_reviews.map(lambda review: subword_tokenizer.tokenize(review)).apply(padding_func)\n",
    "\n",
    "# Combine the integer sequence and labels\n",
    "train_dataset_vectorized = tf.data.Dataset.zip(train_sequences_subword,train_labels)\n",
    "test_dataset_vectorized = tf.data.Dataset.zip(test_sequences_subword,test_labels)\n",
    "\n",
    "# Optimize the datasets for training\n",
    "train_dataset_final = (train_dataset_vectorized\n",
    "                       .shuffle(SHUFFLE_BUFFER_SIZE)\n",
    "                       .cache()\n",
    "                       .prefetch(buffer_size=PREFETCH_BUFFER_SIZE)\n",
    "                       .batch(BATCH_SIZE)\n",
    "                       )\n",
    "\n",
    "test_dataset_final = (test_dataset_vectorized\n",
    "                      .cache()\n",
    "                      .prefetch(buffer_size=PREFETCH_BUFFER_SIZE)\n",
    "                      .batch(BATCH_SIZE)\n",
    "                      )"
   ]
  },
  {
   "cell_type": "markdown",
   "metadata": {
    "id": "HCjHCG7s2sAR"
   },
   "source": [
    "Next, you will build the model. You can just use the architecture from the previous lab."
   ]
  },
  {
   "cell_type": "code",
   "execution_count": 20,
   "metadata": {
    "id": "5NEpdhb8AxID"
   },
   "outputs": [
    {
     "data": {
      "text/html": [
       "<pre style=\"white-space:pre;overflow-x:auto;line-height:normal;font-family:Menlo,'DejaVu Sans Mono',consolas,'Courier New',monospace\"><span style=\"font-weight: bold\">Model: \"sequential\"</span>\n",
       "</pre>\n"
      ],
      "text/plain": [
       "\u001b[1mModel: \"sequential\"\u001b[0m\n"
      ]
     },
     "metadata": {},
     "output_type": "display_data"
    },
    {
     "data": {
      "text/html": [
       "<pre style=\"white-space:pre;overflow-x:auto;line-height:normal;font-family:Menlo,'DejaVu Sans Mono',consolas,'Courier New',monospace\">┏━━━━━━━━━━━━━━━━━━━━━━━━━━━━━━━━━┳━━━━━━━━━━━━━━━━━━━━━━━━┳━━━━━━━━━━━━━━━┓\n",
       "┃<span style=\"font-weight: bold\"> Layer (type)                    </span>┃<span style=\"font-weight: bold\"> Output Shape           </span>┃<span style=\"font-weight: bold\">       Param # </span>┃\n",
       "┡━━━━━━━━━━━━━━━━━━━━━━━━━━━━━━━━━╇━━━━━━━━━━━━━━━━━━━━━━━━╇━━━━━━━━━━━━━━━┩\n",
       "│ embedding (<span style=\"color: #0087ff; text-decoration-color: #0087ff\">Embedding</span>)           │ (<span style=\"color: #00d7ff; text-decoration-color: #00d7ff\">None</span>, <span style=\"color: #00af00; text-decoration-color: #00af00\">120</span>, <span style=\"color: #00af00; text-decoration-color: #00af00\">64</span>)        │       <span style=\"color: #00af00; text-decoration-color: #00af00\">488,640</span> │\n",
       "├─────────────────────────────────┼────────────────────────┼───────────────┤\n",
       "│ global_average_pooling1d        │ (<span style=\"color: #00d7ff; text-decoration-color: #00d7ff\">None</span>, <span style=\"color: #00af00; text-decoration-color: #00af00\">64</span>)             │             <span style=\"color: #00af00; text-decoration-color: #00af00\">0</span> │\n",
       "│ (<span style=\"color: #0087ff; text-decoration-color: #0087ff\">GlobalAveragePooling1D</span>)        │                        │               │\n",
       "├─────────────────────────────────┼────────────────────────┼───────────────┤\n",
       "│ dense (<span style=\"color: #0087ff; text-decoration-color: #0087ff\">Dense</span>)                   │ (<span style=\"color: #00d7ff; text-decoration-color: #00d7ff\">None</span>, <span style=\"color: #00af00; text-decoration-color: #00af00\">6</span>)              │           <span style=\"color: #00af00; text-decoration-color: #00af00\">390</span> │\n",
       "├─────────────────────────────────┼────────────────────────┼───────────────┤\n",
       "│ dense_1 (<span style=\"color: #0087ff; text-decoration-color: #0087ff\">Dense</span>)                 │ (<span style=\"color: #00d7ff; text-decoration-color: #00d7ff\">None</span>, <span style=\"color: #00af00; text-decoration-color: #00af00\">1</span>)              │             <span style=\"color: #00af00; text-decoration-color: #00af00\">7</span> │\n",
       "└─────────────────────────────────┴────────────────────────┴───────────────┘\n",
       "</pre>\n"
      ],
      "text/plain": [
       "┏━━━━━━━━━━━━━━━━━━━━━━━━━━━━━━━━━┳━━━━━━━━━━━━━━━━━━━━━━━━┳━━━━━━━━━━━━━━━┓\n",
       "┃\u001b[1m \u001b[0m\u001b[1mLayer (type)                   \u001b[0m\u001b[1m \u001b[0m┃\u001b[1m \u001b[0m\u001b[1mOutput Shape          \u001b[0m\u001b[1m \u001b[0m┃\u001b[1m \u001b[0m\u001b[1m      Param #\u001b[0m\u001b[1m \u001b[0m┃\n",
       "┡━━━━━━━━━━━━━━━━━━━━━━━━━━━━━━━━━╇━━━━━━━━━━━━━━━━━━━━━━━━╇━━━━━━━━━━━━━━━┩\n",
       "│ embedding (\u001b[38;5;33mEmbedding\u001b[0m)           │ (\u001b[38;5;45mNone\u001b[0m, \u001b[38;5;34m120\u001b[0m, \u001b[38;5;34m64\u001b[0m)        │       \u001b[38;5;34m488,640\u001b[0m │\n",
       "├─────────────────────────────────┼────────────────────────┼───────────────┤\n",
       "│ global_average_pooling1d        │ (\u001b[38;5;45mNone\u001b[0m, \u001b[38;5;34m64\u001b[0m)             │             \u001b[38;5;34m0\u001b[0m │\n",
       "│ (\u001b[38;5;33mGlobalAveragePooling1D\u001b[0m)        │                        │               │\n",
       "├─────────────────────────────────┼────────────────────────┼───────────────┤\n",
       "│ dense (\u001b[38;5;33mDense\u001b[0m)                   │ (\u001b[38;5;45mNone\u001b[0m, \u001b[38;5;34m6\u001b[0m)              │           \u001b[38;5;34m390\u001b[0m │\n",
       "├─────────────────────────────────┼────────────────────────┼───────────────┤\n",
       "│ dense_1 (\u001b[38;5;33mDense\u001b[0m)                 │ (\u001b[38;5;45mNone\u001b[0m, \u001b[38;5;34m1\u001b[0m)              │             \u001b[38;5;34m7\u001b[0m │\n",
       "└─────────────────────────────────┴────────────────────────┴───────────────┘\n"
      ]
     },
     "metadata": {},
     "output_type": "display_data"
    },
    {
     "data": {
      "text/html": [
       "<pre style=\"white-space:pre;overflow-x:auto;line-height:normal;font-family:Menlo,'DejaVu Sans Mono',consolas,'Courier New',monospace\"><span style=\"font-weight: bold\"> Total params: </span><span style=\"color: #00af00; text-decoration-color: #00af00\">489,037</span> (1.87 MB)\n",
       "</pre>\n"
      ],
      "text/plain": [
       "\u001b[1m Total params: \u001b[0m\u001b[38;5;34m489,037\u001b[0m (1.87 MB)\n"
      ]
     },
     "metadata": {},
     "output_type": "display_data"
    },
    {
     "data": {
      "text/html": [
       "<pre style=\"white-space:pre;overflow-x:auto;line-height:normal;font-family:Menlo,'DejaVu Sans Mono',consolas,'Courier New',monospace\"><span style=\"font-weight: bold\"> Trainable params: </span><span style=\"color: #00af00; text-decoration-color: #00af00\">489,037</span> (1.87 MB)\n",
       "</pre>\n"
      ],
      "text/plain": [
       "\u001b[1m Trainable params: \u001b[0m\u001b[38;5;34m489,037\u001b[0m (1.87 MB)\n"
      ]
     },
     "metadata": {},
     "output_type": "display_data"
    },
    {
     "data": {
      "text/html": [
       "<pre style=\"white-space:pre;overflow-x:auto;line-height:normal;font-family:Menlo,'DejaVu Sans Mono',consolas,'Courier New',monospace\"><span style=\"font-weight: bold\"> Non-trainable params: </span><span style=\"color: #00af00; text-decoration-color: #00af00\">0</span> (0.00 B)\n",
       "</pre>\n"
      ],
      "text/plain": [
       "\u001b[1m Non-trainable params: \u001b[0m\u001b[38;5;34m0\u001b[0m (0.00 B)\n"
      ]
     },
     "metadata": {},
     "output_type": "display_data"
    }
   ],
   "source": [
    "# Define dimensionality of the embedding\n",
    "EMBEDDING_DIM = 64\n",
    "\n",
    "# Build the model\n",
    "model = tf.keras.Sequential([\n",
    "    tf.keras.Input(shape=(MAX_LENGTH,)),\n",
    "    tf.keras.layers.Embedding(subword_tokenizer.vocabulary_size(), EMBEDDING_DIM),\n",
    "    tf.keras.layers.GlobalAveragePooling1D(),\n",
    "    tf.keras.layers.Dense(6, activation='relu'),\n",
    "    tf.keras.layers.Dense(1, activation='sigmoid')\n",
    "])\n",
    "\n",
    "# Print the model summary\n",
    "model.summary()"
   ]
  },
  {
   "cell_type": "markdown",
   "metadata": {
    "id": "2aOn2bAc3AUj"
   },
   "source": [
    "Similarly, you can use the same parameters for training. In Colab, it will take around 10 to 15 seconds per epoch (without an accelerator) and you will reach around 92% training accuracy and 77% validation accuracy."
   ]
  },
  {
   "cell_type": "code",
   "execution_count": 21,
   "metadata": {
    "id": "fkt8c5dNuUlT"
   },
   "outputs": [
    {
     "name": "stdout",
     "output_type": "stream",
     "text": [
      "Epoch 1/10\n",
      "\u001b[1m782/782\u001b[0m \u001b[32m━━━━━━━━━━━━━━━━━━━━\u001b[0m\u001b[37m\u001b[0m \u001b[1m9s\u001b[0m 10ms/step - accuracy: 0.6308 - loss: 0.6381 - val_accuracy: 0.7953 - val_loss: 0.4954\n",
      "Epoch 2/10\n",
      "\u001b[1m782/782\u001b[0m \u001b[32m━━━━━━━━━━━━━━━━━━━━\u001b[0m\u001b[37m\u001b[0m \u001b[1m7s\u001b[0m 9ms/step - accuracy: 0.8389 - loss: 0.4382 - val_accuracy: 0.8010 - val_loss: 0.4575\n",
      "Epoch 3/10\n",
      "\u001b[1m782/782\u001b[0m \u001b[32m━━━━━━━━━━━━━━━━━━━━\u001b[0m\u001b[37m\u001b[0m \u001b[1m7s\u001b[0m 9ms/step - accuracy: 0.8710 - loss: 0.3585 - val_accuracy: 0.7950 - val_loss: 0.4677\n",
      "Epoch 4/10\n",
      "\u001b[1m782/782\u001b[0m \u001b[32m━━━━━━━━━━━━━━━━━━━━\u001b[0m\u001b[37m\u001b[0m \u001b[1m7s\u001b[0m 9ms/step - accuracy: 0.8889 - loss: 0.3140 - val_accuracy: 0.7894 - val_loss: 0.4942\n",
      "Epoch 5/10\n",
      "\u001b[1m782/782\u001b[0m \u001b[32m━━━━━━━━━━━━━━━━━━━━\u001b[0m\u001b[37m\u001b[0m \u001b[1m7s\u001b[0m 9ms/step - accuracy: 0.8983 - loss: 0.2861 - val_accuracy: 0.7845 - val_loss: 0.5287\n",
      "Epoch 6/10\n",
      "\u001b[1m782/782\u001b[0m \u001b[32m━━━━━━━━━━━━━━━━━━━━\u001b[0m\u001b[37m\u001b[0m \u001b[1m7s\u001b[0m 8ms/step - accuracy: 0.9096 - loss: 0.2666 - val_accuracy: 0.7798 - val_loss: 0.5655\n",
      "Epoch 7/10\n",
      "\u001b[1m782/782\u001b[0m \u001b[32m━━━━━━━━━━━━━━━━━━━━\u001b[0m\u001b[37m\u001b[0m \u001b[1m7s\u001b[0m 9ms/step - accuracy: 0.9150 - loss: 0.2523 - val_accuracy: 0.7768 - val_loss: 0.5940\n",
      "Epoch 8/10\n",
      "\u001b[1m782/782\u001b[0m \u001b[32m━━━━━━━━━━━━━━━━━━━━\u001b[0m\u001b[37m\u001b[0m \u001b[1m7s\u001b[0m 8ms/step - accuracy: 0.9201 - loss: 0.2428 - val_accuracy: 0.7742 - val_loss: 0.6255\n",
      "Epoch 9/10\n",
      "\u001b[1m782/782\u001b[0m \u001b[32m━━━━━━━━━━━━━━━━━━━━\u001b[0m\u001b[37m\u001b[0m \u001b[1m7s\u001b[0m 8ms/step - accuracy: 0.9245 - loss: 0.2324 - val_accuracy: 0.7704 - val_loss: 0.6561\n",
      "Epoch 10/10\n",
      "\u001b[1m782/782\u001b[0m \u001b[32m━━━━━━━━━━━━━━━━━━━━\u001b[0m\u001b[37m\u001b[0m \u001b[1m7s\u001b[0m 8ms/step - accuracy: 0.9297 - loss: 0.2246 - val_accuracy: 0.7679 - val_loss: 0.6892\n"
     ]
    }
   ],
   "source": [
    "num_epochs = 10\n",
    "\n",
    "# Set the training parameters\n",
    "model.compile(loss='binary_crossentropy',optimizer='adam',metrics=['accuracy'])\n",
    "\n",
    "# Start training\n",
    "history = model.fit(train_dataset_final, epochs=num_epochs, validation_data=test_dataset_final)"
   ]
  },
  {
   "cell_type": "markdown",
   "metadata": {
    "id": "3ygYaD6H3qGX"
   },
   "source": [
    "## Visualize the results\n",
    "\n",
    "You can use the cell below to plot the training results. See if you can improve it by tweaking the parameters such as the size of the embedding and number of epochs."
   ]
  },
  {
   "cell_type": "code",
   "execution_count": 22,
   "metadata": {
    "id": "-_rMnm7WxQGT"
   },
   "outputs": [
    {
     "data": {
      "image/png": "[encoded data removed]",
      "text/plain": [
       "<Figure size 1200x600 with 2 Axes>"
      ]
     },
     "metadata": {},
     "output_type": "display_data"
    }
   ],
   "source": [
    "def plot_loss_acc(history):\n",
    "  '''Plots the training and validation loss and accuracy from a history object'''\n",
    "  acc = history.history['accuracy']\n",
    "  val_acc = history.history['val_accuracy']\n",
    "  loss = history.history['loss']\n",
    "  val_loss = history.history['val_loss']\n",
    "\n",
    "  epochs = range(len(acc))\n",
    "\n",
    "  fig, ax = plt.subplots(1,2, figsize=(12, 6))\n",
    "  ax[0].plot(epochs, acc, 'bo', label='Training accuracy')\n",
    "  ax[0].plot(epochs, val_acc, 'b', label='Validation accuracy')\n",
    "  ax[0].set_title('Training and validation accuracy')\n",
    "  ax[0].set_xlabel('epochs')\n",
    "  ax[0].set_ylabel('accuracy')\n",
    "  ax[0].legend()\n",
    "\n",
    "  ax[1].plot(epochs, loss, 'bo', label='Training Loss')\n",
    "  ax[1].plot(epochs, val_loss, 'b', label='Validation Loss')\n",
    "  ax[1].set_title('Training and validation loss')\n",
    "  ax[1].set_xlabel('epochs')\n",
    "  ax[1].set_ylabel('loss')\n",
    "  ax[1].legend()\n",
    "\n",
    "  plt.show()\n",
    "\n",
    "plot_loss_acc(history)"
   ]
  },
  {
   "cell_type": "markdown",
   "metadata": {
    "id": "R0TRE-Lb4C5b"
   },
   "source": [
    "## Wrap Up\n",
    "\n",
    "In this lab, you saw how subword tokenization can be a robust technique to avoid out-of-vocabulary tokens. It can decode uncommon words it hasn't seen before even with a relatively small vocab size. Consequently, it results in longer token sequences when compared to full word tokenization. Next week, you will look at other architectures that you can use when building your classifier. These will be recurrent neural networks and convolutional neural networks."
   ]
  },
  {
   "cell_type": "code",
   "execution_count": null,
   "metadata": {},
   "outputs": [],
   "source": []
  },
  {
   "cell_type": "code",
   "execution_count": null,
   "metadata": {},
   "outputs": [],
   "source": []
  },
  {
   "cell_type": "code",
   "execution_count": null,
   "metadata": {},
   "outputs": [],
   "source": []
  }
 ],
 "metadata": {
  "colab": {
   "private_outputs": true,
   "provenance": []
  },
  "kernelspec": {
   "display_name": "Python 3 (ipykernel)",
   "language": "python",
   "name": "python3"
  },
  "language_info": {
   "codemirror_mode": {
    "name": "ipython",
    "version": 3
   },
   "file_extension": ".py",
   "mimetype": "text/x-python",
   "name": "python",
   "nbconvert_exporter": "python",
   "pygments_lexer": "ipython3",
   "version": "3.11.6"
  }
 },
 "nbformat": 4,
 "nbformat_minor": 4
}
